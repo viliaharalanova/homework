{
 "cells": [
  {
   "cell_type": "code",
   "execution_count": 4,
   "metadata": {},
   "outputs": [
    {
     "name": "stdout",
     "output_type": "stream",
     "text": [
      "Collecting pandasNote: you may need to restart the kernel to use updated packages.\n",
      "\n",
      "  Downloading pandas-2.2.1-cp312-cp312-win_amd64.whl.metadata (19 kB)\n",
      "Requirement already satisfied: numpy<2,>=1.26.0 in c:\\users\\vilia\\onedrive\\работен плот\\machine learning\\homework\\.venv\\lib\\site-packages (from pandas) (1.26.4)\n",
      "Requirement already satisfied: python-dateutil>=2.8.2 in c:\\users\\vilia\\onedrive\\работен плот\\machine learning\\homework\\.venv\\lib\\site-packages (from pandas) (2.9.0.post0)\n",
      "Collecting pytz>=2020.1 (from pandas)\n",
      "  Downloading pytz-2024.1-py2.py3-none-any.whl.metadata (22 kB)\n",
      "Collecting tzdata>=2022.7 (from pandas)\n",
      "  Downloading tzdata-2024.1-py2.py3-none-any.whl.metadata (1.4 kB)\n",
      "Requirement already satisfied: six>=1.5 in c:\\users\\vilia\\onedrive\\работен плот\\machine learning\\homework\\.venv\\lib\\site-packages (from python-dateutil>=2.8.2->pandas) (1.16.0)\n",
      "Downloading pandas-2.2.1-cp312-cp312-win_amd64.whl (11.5 MB)\n",
      "   ---------------------------------------- 0.0/11.5 MB ? eta -:--:--\n",
      "   ---------------------------------------- 0.0/11.5 MB ? eta -:--:--\n",
      "   ---------------------------------------- 0.1/11.5 MB 975.2 kB/s eta 0:00:12\n",
      "    --------------------------------------- 0.2/11.5 MB 1.5 MB/s eta 0:00:08\n",
      "    --------------------------------------- 0.3/11.5 MB 1.5 MB/s eta 0:00:08\n",
      "   - -------------------------------------- 0.4/11.5 MB 1.8 MB/s eta 0:00:07\n",
      "   - -------------------------------------- 0.5/11.5 MB 2.0 MB/s eta 0:00:06\n",
      "   -- ------------------------------------- 0.7/11.5 MB 2.1 MB/s eta 0:00:06\n",
      "   -- ------------------------------------- 0.8/11.5 MB 2.2 MB/s eta 0:00:05\n",
      "   --- ------------------------------------ 0.9/11.5 MB 2.2 MB/s eta 0:00:05\n",
      "   --- ------------------------------------ 1.1/11.5 MB 2.4 MB/s eta 0:00:05\n",
      "   ---- ----------------------------------- 1.2/11.5 MB 2.4 MB/s eta 0:00:05\n",
      "   ---- ----------------------------------- 1.4/11.5 MB 2.5 MB/s eta 0:00:04\n",
      "   ----- ---------------------------------- 1.6/11.5 MB 2.6 MB/s eta 0:00:04\n",
      "   ------ --------------------------------- 1.8/11.5 MB 2.7 MB/s eta 0:00:04\n",
      "   ------ --------------------------------- 1.9/11.5 MB 2.7 MB/s eta 0:00:04\n",
      "   ------- -------------------------------- 2.1/11.5 MB 2.8 MB/s eta 0:00:04\n",
      "   ------- -------------------------------- 2.3/11.5 MB 2.9 MB/s eta 0:00:04\n",
      "   -------- ------------------------------- 2.5/11.5 MB 3.0 MB/s eta 0:00:03\n",
      "   --------- ------------------------------ 2.7/11.5 MB 3.1 MB/s eta 0:00:03\n",
      "   ---------- ----------------------------- 2.9/11.5 MB 3.2 MB/s eta 0:00:03\n",
      "   ----------- ---------------------------- 3.2/11.5 MB 3.3 MB/s eta 0:00:03\n",
      "   ------------ --------------------------- 3.5/11.5 MB 3.4 MB/s eta 0:00:03\n",
      "   ------------ --------------------------- 3.7/11.5 MB 3.4 MB/s eta 0:00:03\n",
      "   ------------- -------------------------- 4.0/11.5 MB 3.6 MB/s eta 0:00:03\n",
      "   -------------- ------------------------- 4.3/11.5 MB 3.7 MB/s eta 0:00:02\n",
      "   ---------------- ----------------------- 4.6/11.5 MB 3.8 MB/s eta 0:00:02\n",
      "   ----------------- ---------------------- 4.9/11.5 MB 3.9 MB/s eta 0:00:02\n",
      "   ------------------ --------------------- 5.2/11.5 MB 4.0 MB/s eta 0:00:02\n",
      "   ------------------- -------------------- 5.6/11.5 MB 4.2 MB/s eta 0:00:02\n",
      "   -------------------- ------------------- 5.9/11.5 MB 4.3 MB/s eta 0:00:02\n",
      "   ---------------------- ----------------- 6.4/11.5 MB 4.5 MB/s eta 0:00:02\n",
      "   ----------------------- ---------------- 6.6/11.5 MB 4.5 MB/s eta 0:00:02\n",
      "   ----------------------- ---------------- 6.7/11.5 MB 4.5 MB/s eta 0:00:02\n",
      "   ------------------------ --------------- 7.1/11.5 MB 4.5 MB/s eta 0:00:01\n",
      "   ------------------------- -------------- 7.2/11.5 MB 4.5 MB/s eta 0:00:01\n",
      "   ------------------------- -------------- 7.4/11.5 MB 4.4 MB/s eta 0:00:01\n",
      "   -------------------------- ------------- 7.7/11.5 MB 4.5 MB/s eta 0:00:01\n",
      "   --------------------------- ------------ 8.0/11.5 MB 4.5 MB/s eta 0:00:01\n",
      "   ---------------------------- ----------- 8.3/11.5 MB 4.6 MB/s eta 0:00:01\n",
      "   ------------------------------ --------- 8.7/11.5 MB 4.7 MB/s eta 0:00:01\n",
      "   ------------------------------- -------- 9.1/11.5 MB 4.8 MB/s eta 0:00:01\n",
      "   --------------------------------- ------ 9.5/11.5 MB 4.9 MB/s eta 0:00:01\n",
      "   ---------------------------------- ----- 9.8/11.5 MB 4.9 MB/s eta 0:00:01\n",
      "   ----------------------------------- ---- 10.2/11.5 MB 5.0 MB/s eta 0:00:01\n",
      "   ----------------------------------- ---- 10.3/11.5 MB 5.1 MB/s eta 0:00:01\n",
      "   ------------------------------------ --- 10.5/11.5 MB 5.2 MB/s eta 0:00:01\n",
      "   ------------------------------------- -- 10.8/11.5 MB 5.4 MB/s eta 0:00:01\n",
      "   -------------------------------------- - 11.1/11.5 MB 5.6 MB/s eta 0:00:01\n",
      "   ---------------------------------------  11.5/11.5 MB 5.7 MB/s eta 0:00:01\n",
      "   ---------------------------------------  11.5/11.5 MB 5.8 MB/s eta 0:00:01\n",
      "   ---------------------------------------  11.5/11.5 MB 5.8 MB/s eta 0:00:01\n",
      "   ---------------------------------------- 11.5/11.5 MB 5.4 MB/s eta 0:00:00\n",
      "Downloading pytz-2024.1-py2.py3-none-any.whl (505 kB)\n",
      "   ---------------------------------------- 0.0/505.5 kB ? eta -:--:--\n",
      "   -- ------------------------------------- 30.7/505.5 kB 1.4 MB/s eta 0:00:01\n",
      "   ------------------------------ --------- 389.1/505.5 kB 6.1 MB/s eta 0:00:01\n",
      "   ---------------------------------------  501.8/505.5 kB 4.5 MB/s eta 0:00:01\n",
      "   ---------------------------------------- 505.5/505.5 kB 3.5 MB/s eta 0:00:00\n",
      "Downloading tzdata-2024.1-py2.py3-none-any.whl (345 kB)\n",
      "   ---------------------------------------- 0.0/345.4 kB ? eta -:--:--\n",
      "   ----------------------- ---------------- 204.8/345.4 kB 6.1 MB/s eta 0:00:01\n",
      "   ---------------------------------------  337.9/345.4 kB 3.5 MB/s eta 0:00:01\n",
      "   ---------------------------------------- 345.4/345.4 kB 2.7 MB/s eta 0:00:00\n",
      "Installing collected packages: pytz, tzdata, pandas\n",
      "Successfully installed pandas-2.2.1 pytz-2024.1 tzdata-2024.1\n"
     ]
    }
   ],
   "source": [
    "pip install pandas"
   ]
  },
  {
   "cell_type": "code",
   "execution_count": 1,
   "metadata": {},
   "outputs": [],
   "source": [
    "import pandas as pd"
   ]
  },
  {
   "cell_type": "code",
   "execution_count": 20,
   "metadata": {},
   "outputs": [
    {
     "data": {
      "text/plain": [
       "<bound method NDFrame.describe of          country  beer_servings  spirit_servings  wine_servings  \\\n",
       "0    Afghanistan              0                0              0   \n",
       "1        Albania             89              132             54   \n",
       "2        Algeria             25                0             14   \n",
       "3        Andorra            245              138            312   \n",
       "4         Angola            217               57             45   \n",
       "..           ...            ...              ...            ...   \n",
       "188    Venezuela            333              100              3   \n",
       "189      Vietnam            111                2              1   \n",
       "190        Yemen              6                0              0   \n",
       "191       Zambia             32               19              4   \n",
       "192     Zimbabwe             64               18              4   \n",
       "\n",
       "     total_litres_of_pure_alcohol continent  \n",
       "0                             0.0        AS  \n",
       "1                             4.9        EU  \n",
       "2                             0.7        AF  \n",
       "3                            12.4   Ecuador  \n",
       "4                             5.9        AF  \n",
       "..                            ...       ...  \n",
       "188                           7.7        SA  \n",
       "189                           2.0        AS  \n",
       "190                           0.1        AS  \n",
       "191                           2.5        AF  \n",
       "192                           4.7        AF  \n",
       "\n",
       "[193 rows x 6 columns]>"
      ]
     },
     "execution_count": 20,
     "metadata": {},
     "output_type": "execute_result"
    }
   ],
   "source": [
    "df = pd.read_csv('https://raw.githubusercontent.com/geekcourses/ML_SA_Labs/2_ML_SA/datasets/drinks.csv')\n",
    "df.describe"
   ]
  },
  {
   "cell_type": "code",
   "execution_count": 27,
   "metadata": {},
   "outputs": [
    {
     "data": {
      "text/html": [
       "<div>\n",
       "<style scoped>\n",
       "    .dataframe tbody tr th:only-of-type {\n",
       "        vertical-align: middle;\n",
       "    }\n",
       "\n",
       "    .dataframe tbody tr th {\n",
       "        vertical-align: top;\n",
       "    }\n",
       "\n",
       "    .dataframe thead th {\n",
       "        text-align: right;\n",
       "    }\n",
       "</style>\n",
       "<table border=\"1\" class=\"dataframe\">\n",
       "  <thead>\n",
       "    <tr style=\"text-align: right;\">\n",
       "      <th></th>\n",
       "      <th>country</th>\n",
       "      <th>beer_servings</th>\n",
       "      <th>spirit_servings</th>\n",
       "      <th>wine_servings</th>\n",
       "      <th>total_litres_of_pure_alcohol</th>\n",
       "      <th>continent</th>\n",
       "    </tr>\n",
       "  </thead>\n",
       "  <tbody>\n",
       "    <tr>\n",
       "      <th>61</th>\n",
       "      <td>France</td>\n",
       "      <td>127</td>\n",
       "      <td>151</td>\n",
       "      <td>370</td>\n",
       "      <td>11.8</td>\n",
       "      <td>EU</td>\n",
       "    </tr>\n",
       "  </tbody>\n",
       "</table>\n",
       "</div>"
      ],
      "text/plain": [
       "   country  beer_servings  spirit_servings  wine_servings  \\\n",
       "61  France            127              151            370   \n",
       "\n",
       "    total_litres_of_pure_alcohol continent  \n",
       "61                          11.8        EU  "
      ]
     },
     "execution_count": 27,
     "metadata": {},
     "output_type": "execute_result"
    }
   ],
   "source": [
    "max_wine = df['wine_servings'].max()\n",
    "df[df['wine_servings']==max_wine]"
   ]
  },
  {
   "cell_type": "code",
   "execution_count": 33,
   "metadata": {},
   "outputs": [
    {
     "data": {
      "text/plain": [
       "continent\n",
       "AS         123\n",
       "OC         212\n",
       "SA         221\n",
       "AF         233\n",
       "Ecuador    312\n",
       "EU         370\n",
       "Name: wine_servings, dtype: int64"
      ]
     },
     "execution_count": 33,
     "metadata": {},
     "output_type": "execute_result"
    }
   ],
   "source": [
    "df.groupby('continent')['wine_servings'].max().sort_values()"
   ]
  },
  {
   "cell_type": "code",
   "execution_count": 38,
   "metadata": {},
   "outputs": [
    {
     "data": {
      "text/plain": [
       "continent\n",
       "AS         123\n",
       "OC         212\n",
       "SA         221\n",
       "AF         233\n",
       "Ecuador    312\n",
       "EU         370\n",
       "Name: wine_servings, dtype: int64"
      ]
     },
     "execution_count": 38,
     "metadata": {},
     "output_type": "execute_result"
    }
   ],
   "source": [
    "df.groupby('continent')['wine_servings'].max().sort_values()"
   ]
  },
  {
   "cell_type": "code",
   "execution_count": null,
   "metadata": {},
   "outputs": [],
   "source": []
  }
 ],
 "metadata": {
  "kernelspec": {
   "display_name": ".venv",
   "language": "python",
   "name": "python3"
  },
  "language_info": {
   "codemirror_mode": {
    "name": "ipython",
    "version": 3
   },
   "file_extension": ".py",
   "mimetype": "text/x-python",
   "name": "python",
   "nbconvert_exporter": "python",
   "pygments_lexer": "ipython3",
   "version": "3.12.2"
  }
 },
 "nbformat": 4,
 "nbformat_minor": 2
}
