{
 "cells": [
  {
   "cell_type": "markdown",
   "id": "a1328bb9-bf38-4488-9f3c-da5aae2b1695",
   "metadata": {},
   "source": [
    "# Share Notebook\n",
    "\n",
    "## GitHub Render"
   ]
  },
  {
   "cell_type": "code",
   "execution_count": null,
   "id": "69c3fe15-699e-4334-85cb-8d4759aec2d4",
   "metadata": {},
   "outputs": [],
   "source": []
  }
 ],
 "metadata": {
  "kernelspec": {
   "display_name": "Python 3 (ipykernel)",
   "language": "python",
   "name": "python3"
  },
  "language_info": {
   "codemirror_mode": {
    "name": "ipython",
    "version": 3
   },
   "file_extension": ".py",
   "mimetype": "text/x-python",
   "name": "python",
   "nbconvert_exporter": "python",
   "pygments_lexer": "ipython3",
   "version": "3.12.0"
  }
 },
 "nbformat": 4,
 "nbformat_minor": 5
}