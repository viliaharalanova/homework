{
  "nbformat": 4,
  "nbformat_minor": 0,
  "metadata": {
    "colab": {
      "provenance": [],
      "authorship_tag": "ABX9TyPBm0XdpKvoYHt1pYsBpmMo",
      "include_colab_link": true
    },
    "kernelspec": {
      "name": "python3",
      "display_name": "Python 3"
    },
    "language_info": {
      "name": "python"
    }
  },
  "cells": [
    {
      "cell_type": "markdown",
      "metadata": {
        "id": "view-in-github",
        "colab_type": "text"
      },
      "source": [
        "<a href=\"https://colab.research.google.com/github/viliaharalanova/homework/blob/main/Task1_BMI_with_functions.ipynb\" target=\"_parent\"><img src=\"https://colab.research.google.com/assets/colab-badge.svg\" alt=\"Open In Colab\"/></a>"
      ]
    },
    {
      "cell_type": "markdown",
      "source": [
        "# BMI with functions\n",
        "\n",
        "Develop a Python program that calculates and categorizes a user's Body Mass Index (BMI), organizing the logic into separate functions.\n",
        "\n"
      ],
      "metadata": {
        "id": "FMIJWrkaa3p7"
      }
    },
    {
      "cell_type": "code",
      "execution_count": 36,
      "metadata": {
        "colab": {
          "base_uri": "https://localhost:8080/"
        },
        "id": "-iCjSLl7Zl9C",
        "outputId": "1c5a6f1d-5cd6-4838-913a-90c9b6291f4f"
      },
      "outputs": [
        {
          "output_type": "stream",
          "name": "stdout",
          "text": [
            "Enter your name, please:Vilia\n",
            "I need to know your height in meters:1.6\n",
            "And your weight in kilograms:54\n",
            "\n",
            "\n",
            "**************************************************\n",
            "Vilia, your BMI is 21.09.  Category:  Normal range\n",
            "**************************************************\n"
          ]
        }
      ],
      "source": [
        "def get_user_data():\n",
        "  bmi_data = {}\n",
        "  bmi_data['name'] = input(\"Enter your name, please:\")\n",
        "  bmi_data['height'] = float( input('I need to know your height in meters:') )\n",
        "  bmi_data['weight'] = float( input('And your weight in kilograms:') )\n",
        "  return bmi_data\n",
        "\n",
        "def calc_BMI (w,h):\n",
        "  bmi = w / (h*h)\n",
        "  return bmi\n",
        "\n",
        "def calc_BMI_category(bmi):\n",
        "  levels = [\n",
        "    (16, 'Underweight (Severe thinness)'),\n",
        "    (17, 'Underweight 2 (Moderate thinness)'),\n",
        "    (18.5, 'Underweight 3 (Mild thinness)'),\n",
        "    (25, 'Normal range'),\n",
        "    (30, 'Overweight (Pre-obese)'),\n",
        "    (35, 'Obese (Class I)'),\n",
        "    (40, 'Overweight (Class II)'),\n",
        "    (99999, 'Overweight (Class III)')\n",
        "  ]\n",
        "  for level in levels:\n",
        "    min_score, level_name = level\n",
        "    if bmi < min_score:\n",
        "        return level_name\n",
        "        break\n",
        "\n",
        "def print_results(name,bmi,bmi_category):\n",
        "    print('\\n')\n",
        "    print('*'*50)\n",
        "    print(f'{name}, your BMI is {bmi:.2f}.  Category:  {bmi_category}')\n",
        "    print('*'*50)\n",
        "\n",
        "user_data = get_user_data()\n",
        "bmi = calc_BMI(user_data['weight'],user_data['height'])\n",
        "bmi_cat = calc_BMI_category(bmi)\n",
        "print_results(\n",
        "  name = user_data['name'],\n",
        "  bmi = bmi,\n",
        "  bmi_category = bmi_cat\n",
        "  )\n"
      ]
    },
    {
      "cell_type": "code",
      "source": [],
      "metadata": {
        "id": "29hFRNt8Wzhq"
      },
      "execution_count": null,
      "outputs": []
    }
  ]
}