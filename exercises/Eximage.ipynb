{
 "cells": [
  {
   "cell_type": "markdown",
   "metadata": {},
   "source": []
  },
  {
   "cell_type": "code",
   "execution_count": 2,
   "metadata": {},
   "outputs": [],
   "source": [
    "import cv2\n",
    "import numpy as np"
   ]
  },
  {
   "cell_type": "code",
   "execution_count": 6,
   "metadata": {},
   "outputs": [
    {
     "data": {
      "text/plain": [
       "True"
      ]
     },
     "execution_count": 6,
     "metadata": {},
     "output_type": "execute_result"
    }
   ],
   "source": [
    "import cv2\n",
    "import numpy as np\n",
    "\n",
    "# Create a blank image 4x6 with white (255,255,255) pixels\n",
    "image = np.full((6, 4, 3), 255, dtype=np.uint8)\n",
    "import cv2\n",
    "import numpy as np\n",
    "\n",
    "# Create a blank image 4x6 with white (255,255,255) pixels\n",
    "image = np.full((6, 4, 3), 255, dtype=np.uint8)\n",
    "\n",
    "### Set the pixel values for the lines of the number 0 to red BGR:( 0, 0, 255)\n",
    "\n",
    "## Set Top line pixels to red ()\n",
    "image[0, 0] = [0,0,255]\n",
    "image[0, 1] = [0,0,255]\n",
    "image[0, 2] = [0,0,255]\n",
    "image[0, 3] = [0,0,255]\n",
    "\n",
    "## Bottom line\n",
    "image[5, 0:5] = [0,255,0]\n",
    "\n",
    "\n",
    "## Left column\n",
    "image[1:5, 0] = [0,0,255]\n",
    "\n",
    "## Right Column\n",
    "image[1:5, 3] = [0,0,255]\n",
    "\n",
    "# Save the image\n",
    "cv2.imwrite('number_0.png', image)"
   ]
  },
  {
   "cell_type": "code",
   "execution_count": 7,
   "metadata": {},
   "outputs": [],
   "source": [
    "import matplotlib.pyplot as plt"
   ]
  },
  {
   "cell_type": "code",
   "execution_count": 10,
   "metadata": {},
   "outputs": [
    {
     "data": {
      "image/png": "[encoded data removed]",
      "text/plain": [
       "<Figure size 640x480 with 1 Axes>"
      ]
     },
     "metadata": {},
     "output_type": "display_data"
    }
   ],
   "source": [
    "image = plt.imread('number_0.png')\n",
    "plt.imshow(image)\n",
    "plt.show()\n"
   ]
  },
  {
   "cell_type": "code",
   "execution_count": null,
   "metadata": {},
   "outputs": [],
   "source": []
  }
 ],
 "metadata": {
  "kernelspec": {
   "display_name": ".venv",
   "language": "python",
   "name": "python3"
  },
  "language_info": {
   "codemirror_mode": {
    "name": "ipython",
    "version": 3
   },
   "file_extension": ".py",
   "mimetype": "text/x-python",
   "name": "python",
   "nbconvert_exporter": "python",
   "pygments_lexer": "ipython3",
   "version": "3.12.3"
  }
 },
 "nbformat": 4,
 "nbformat_minor": 2
}
