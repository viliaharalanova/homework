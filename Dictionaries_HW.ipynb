{
  "nbformat": 4,
  "nbformat_minor": 0,
  "metadata": {
    "colab": {
      "provenance": [],
      "authorship_tag": "ABX9TyMtW8CvIIjMwuJKjDuPYQ7+",
      "include_colab_link": true
    },
    "kernelspec": {
      "name": "python3",
      "display_name": "Python 3"
    },
    "language_info": {
      "name": "python"
    }
  },
  "cells": [
    {
      "cell_type": "markdown",
      "metadata": {
        "id": "view-in-github",
        "colab_type": "text"
      },
      "source": [
        "<a href=\"https://colab.research.google.com/github/viliaharalanova/homework/blob/main/Dictionaries_HW.ipynb\" target=\"_parent\"><img src=\"https://colab.research.google.com/assets/colab-badge.svg\" alt=\"Open In Colab\"/></a>"
      ]
    },
    {
      "cell_type": "markdown",
      "source": [
        "Create a dictionary named 'person' with keys 'name', 'age', and 'city' and assign appropriate values to each.\n"
      ],
      "metadata": {
        "id": "1JmNgMAoTLB5"
      }
    },
    {
      "cell_type": "code",
      "execution_count": 1,
      "metadata": {
        "colab": {
          "base_uri": "https://localhost:8080/"
        },
        "id": "bnz-8XHQTFhT",
        "outputId": "e3c42a88-ef62-4dd4-8168-2c0329329964"
      },
      "outputs": [
        {
          "output_type": "stream",
          "name": "stdout",
          "text": [
            "{'name': 'Alice', 'age': 30, 'city': 'New York'}\n"
          ]
        }
      ],
      "source": [
        "person = {\n",
        "\t\"name\": \"Alice\",\n",
        "    \"age\": 30,\n",
        "    \"city\": \"New York\"\n",
        "}\n",
        "print(person)"
      ]
    },
    {
      "cell_type": "markdown",
      "source": [
        "Add a new key 'job' with the value 'Engineer' to the 'person' dictionary created in Task 1.\n"
      ],
      "metadata": {
        "id": "xUW50X3lTws-"
      }
    },
    {
      "cell_type": "code",
      "source": [
        "person[\"job\"] = \"Engineer\"\n",
        "print(person)"
      ],
      "metadata": {
        "colab": {
          "base_uri": "https://localhost:8080/"
        },
        "id": "pCzrSbaNTp9n",
        "outputId": "a6b6b84c-cdce-4b3b-8832-bab78c83b9ae"
      },
      "execution_count": 12,
      "outputs": [
        {
          "output_type": "stream",
          "name": "stdout",
          "text": [
            "{'name': 'Alice', 'city': 'New York', 'job': 'Engineer'}\n"
          ]
        }
      ]
    },
    {
      "cell_type": "markdown",
      "source": [
        "Remove the 'age' key from the 'person' dictionary using the appropriate dictionary method.\n"
      ],
      "metadata": {
        "id": "da55sbwZUV-O"
      }
    },
    {
      "cell_type": "code",
      "source": [
        "person.pop(\"age\")\n",
        "print(person)"
      ],
      "metadata": {
        "colab": {
          "base_uri": "https://localhost:8080/"
        },
        "id": "h8XWhgjWUQS3",
        "outputId": "8475e72e-29b3-4773-daba-f6cdfd93cb16"
      },
      "execution_count": 5,
      "outputs": [
        {
          "output_type": "stream",
          "name": "stdout",
          "text": [
            "{'name': 'Alice', 'city': 'New York', 'job': 'Engineer'}\n"
          ]
        }
      ]
    },
    {
      "cell_type": "markdown",
      "source": [
        "Access and print the value of the 'city' key from the 'person' dictionary."
      ],
      "metadata": {
        "id": "10U-HZLCV27x"
      }
    },
    {
      "cell_type": "code",
      "source": [
        "city = person[\"city\"]\n",
        "print(city)"
      ],
      "metadata": {
        "colab": {
          "base_uri": "https://localhost:8080/"
        },
        "id": "2NnPFgchVpJF",
        "outputId": "5e9488f0-608f-405b-c86b-28053293f5c4"
      },
      "execution_count": 9,
      "outputs": [
        {
          "output_type": "stream",
          "name": "stdout",
          "text": [
            "New York\n"
          ]
        }
      ]
    },
    {
      "cell_type": "markdown",
      "source": [
        "Check if the key 'age' is still in the 'person' dictionary and print the result."
      ],
      "metadata": {
        "id": "tTmDdukQWK-p"
      }
    },
    {
      "cell_type": "code",
      "source": [
        "key = \"age\"\n",
        "if key in person.keys():\n",
        "  print(True)\n",
        "else:\n",
        "  print(False)"
      ],
      "metadata": {
        "colab": {
          "base_uri": "https://localhost:8080/"
        },
        "id": "0FwBZ4kyV8EF",
        "outputId": "9155f07b-2caa-4e0e-f502-4718878aae90"
      },
      "execution_count": 11,
      "outputs": [
        {
          "output_type": "stream",
          "name": "stdout",
          "text": [
            "False\n"
          ]
        }
      ]
    },
    {
      "cell_type": "markdown",
      "source": [],
      "metadata": {
        "id": "sFlH-NWMWJ4f"
      }
    }
  ]
}